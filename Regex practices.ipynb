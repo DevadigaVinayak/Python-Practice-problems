{
 "cells": [
  {
   "cell_type": "code",
   "execution_count": 1,
   "id": "84aba349-ae85-434d-b3f8-50ad7db2cd0b",
   "metadata": {},
   "outputs": [
    {
     "name": "stdout",
     "output_type": "stream",
     "text": [
      "Year: 2024\n",
      "Month: 08\n",
      "Day: 30\n",
      "Group dictionary: {'year': '2024', 'month': '08', 'day': '30'}\n"
     ]
    }
   ],
   "source": [
    "import re\n",
    "\n",
    "def group_example():\n",
    "    pattern = r'(?P<year>\\d{4})-(?P<month>\\d{2})-(?P<day>\\d{2})'\n",
    "\n",
    "    regex = re.compile(pattern)\n",
    "\n",
    "    text = \"The event is scheduled for 2024-08-30. 2024-08-30\"\n",
    "\n",
    "    match = regex.search(text)\n",
    "\n",
    "    if match:\n",
    "        year = match.group('year')\n",
    "        month = match.group('month')\n",
    "        day = match.group('day')\n",
    "\n",
    "        group_dict = match.groupdict()\n",
    "\n",
    "        print(f\"Year: {year}\")\n",
    "        print(f\"Month: {month}\")\n",
    "        print(f\"Day: {day}\")\n",
    "        print(f\"Group dictionary: {group_dict}\")\n",
    "    else:\n",
    "        print(\"No match found.\")\n",
    "group_example()"
   ]
  },
  {
   "cell_type": "code",
   "execution_count": 2,
   "id": "8a15631b-09b4-4176-83e6-73c6151d7ce7",
   "metadata": {},
   "outputs": [
    {
     "name": "stdout",
     "output_type": "stream",
     "text": [
      "['123', '456']\n"
     ]
    }
   ],
   "source": [
    "import re \n",
    "\n",
    "text='abc 123 def 456'\n",
    "pat=r'\\d+'\n",
    "\n",
    "pat1=re.compile(pat)\n",
    "\n",
    "matched=re.findall(pat1,text)\n",
    "print(matched)\n"
   ]
  },
  {
   "cell_type": "code",
   "execution_count": 3,
   "id": "85dbf7b8-7230-4922-a7d0-cf957326baa0",
   "metadata": {},
   "outputs": [
    {
     "name": "stdout",
     "output_type": "stream",
     "text": [
      "example@gmail.com is valid\n",
      "jane.doe123@example.co is valid\n",
      "john.smith@sub.domain is valid\n",
      "alice.smith+filter@example.org is valid\n",
      "info@company-name.com is valid\n",
      "example@.com  is Not valid\n",
      "user@domain..com  is Not valid\n",
      "name@domain  is Not valid\n",
      "@domain.com  is Not valid\n"
     ]
    }
   ],
   "source": [
    "import re\n",
    "\n",
    "def group_example(li):\n",
    "    pattern = r'^[a-zA-Z0-9.+]+@[a-zA-Z0-9-]+\\.[a-zA-Z]{2,}'\n",
    "\n",
    "    #p=r'[a-zA-Z-0-9]+@\\.[a-zA-Z-0-9]*'\n",
    "\n",
    "    regex = re.compile(pattern)\n",
    "    text=li\n",
    "\n",
    "    match = regex.search(text)\n",
    "\n",
    "    if match:\n",
    "        print(match.group() ,\"is valid\")\n",
    "    else:\n",
    "        print(text,\" is Not valid\", )\n",
    "        \n",
    "email_list = [\n",
    "      \"example@gmail.com\",\n",
    "    \"jane.doe123@example.co.uk\",\n",
    "    \"john.smith@sub.domain.com\",\n",
    "    \"alice.smith+filter@example.org\",\n",
    "    \"info@company-name.com\",\"example@.com\",  \"user@domain..com\",  \n",
    "    \"name@domain\",   \"@domain.com\",          \n",
    "]\n",
    "for x in email_list:\n",
    "    group_example(x)"
   ]
  },
  {
   "cell_type": "code",
   "execution_count": 8,
   "id": "d1d251ae-ccba-4f6e-9cd3-c2a96ef08d10",
   "metadata": {},
   "outputs": [
    {
     "name": "stdout",
     "output_type": "stream",
     "text": [
      "https://www.example.com is valid\n",
      "http://example.org is valid\n",
      "ftp://files.example.net is valid\n",
      "https://subdomain.example.co.uk is valid\n",
      "http://localhost:8000 is valid\n",
      "https://192.168.1.1 is valid\n",
      "https://example  is Not valid\n",
      "http://.com  is Not valid\n",
      "http://example..com  is Not valid\n",
      "http://@example.com  is Not valid\n",
      "example.com  is Not valid\n"
     ]
    }
   ],
   "source": [
    "#2.Validate urls \n",
    "url_list = [ \"https://www.example.com\", \"http://example.org\", \"ftp://files.example.net\", \"https://subdomain.example.co.uk\", \"http://localhost:8000\", \"https://192.168.1.1\", \"https://example\", \"http://.com\", \"http://example..com\", \"http://@example.com\", \"example.com\" ]\n",
    "\n",
    "import re\n",
    "\n",
    "def group_example(li):\n",
    "    #pattern = r'^[a-zA-Z0-9.+]+@[a-zA-Z0-9-]+\\.[a-zA-Z]{2,}'\n",
    "\n",
    "    pattern=r'^(https?|ftp):\\/\\/((?:[a-zA-Z0-9-]+\\.)+[a-zA-Z]{2,}|\\d{1,3}\\.\\d{1,3}\\.\\d{1,3}\\.\\d{1,3}|localhost)(?::[0-9]{1,5})?(?:\\/[^\\s]*)?$'\n",
    "\n",
    "\n",
    "    #p=r'[a-zA-Z-0-9]+@\\.[a-zA-Z-0-9]*'\n",
    "\n",
    "    regex = re.compile(pattern)\n",
    "    text=li\n",
    "\n",
    "    match = regex.search(text)\n",
    "\n",
    "    if match:\n",
    "        print(match.group() ,\"is valid\")\n",
    "    else:\n",
    "        print(text,\" is Not valid\", )\n",
    "        \n",
    " \n",
    "for x in url_list:\n",
    "    \n",
    "    group_example(x)\n",
    "\n",
    "\n",
    "\n",
    "# Valid URLs:\n",
    "# [https://www.example.com\n",
    "# http://example.org\n",
    "# ftp://files.example.net\n",
    "# https://subdomain.example.co.uk\n",
    "# http://localhost:8000\n",
    "# https://192.168.1.1]"
   ]
  },
  {
   "cell_type": "code",
   "execution_count": 5,
   "id": "38700c3e-d62f-4173-95fb-d4235e9b9074",
   "metadata": {},
   "outputs": [
    {
     "name": "stdout",
     "output_type": "stream",
     "text": [
      "192.168.1.1 is a valid IP address.\n",
      "256.255.255.255 is not a valid IP address.\n",
      "300.100.50.25 is not a valid IP address.\n",
      "10.0.0.256 is not a valid IP address.\n"
     ]
    }
   ],
   "source": [
    "test_ips = ['192.168.1.1', '256.255.255.255', '300.100.50.25', '10.0.0.256']\n",
    "pat = r'^((25[0-5]|2[0-4][0-9]|[0-1]?[0-9][0-9]?)\\.){3}(25[0-5]|2[0-4][0-9]|[0-1]?[0-9][0-9]?)$'\n",
    "ex = re.compile(pat)\n",
    "for ip in test_ips:\n",
    "    if ex.match(ip):\n",
    "        print(f'{ip} is a valid IP address.')\n",
    "    else:\n",
    "        print(f'{ip} is not a valid IP address.')"
   ]
  },
  {
   "cell_type": "code",
   "execution_count": 7,
   "id": "42cea23d-a82e-4e21-a25a-1590ba07014d",
   "metadata": {},
   "outputs": [],
   "source": [
    "#open a text file fetch ipaddres  and subnet s and add in dict   ip as a key and subnet as the value"
   ]
  },
  {
   "cell_type": "code",
   "execution_count": 9,
   "id": "3e9a6ac5-d8ee-47da-9090-dd36c4632c07",
   "metadata": {},
   "outputs": [
    {
     "name": "stdout",
     "output_type": "stream",
     "text": [
      "valid\n",
      "valid\n",
      "valid\n",
      "valid\n",
      "valid\n",
      "invalid\n",
      "invalid\n",
      "Valid IPs  : Subnet Mask\n",
      "10.0.0.1 : 255.0.0.0\n",
      "172.16.0.1 : 255.255.0.0\n",
      "192.168.1.1 : 255.255.255.0\n",
      "224.0.0.1 : 255.255.255.0\n",
      "240.0.0.1 : None\n"
     ]
    }
   ],
   "source": [
    "import re\n",
    "\n",
    "d = {}\n",
    "with open('list_of_ip.txt','r') as lines:\n",
    "    for line in lines:\n",
    "        \n",
    "        x = ex.search(line)\n",
    "        if x:\n",
    "            print(\"valid\")\n",
    "            foct = int(str(x.group()).split('.')[0])\n",
    "            if foct>=0 and foct<=127:\n",
    "                sub = \"255.0.0.0\"\n",
    "            elif foct>=128 and foct<=191:\n",
    "                sub = \"255.255.0.0\"\n",
    "            elif foct>=192 and foct<=224:\n",
    "                sub = \"255.255.255.0\"\n",
    "            else:\n",
    "                sub = None\n",
    "            d[x.group()] = sub\n",
    "        else:\n",
    "            print(\"invalid\")\n",
    "print(\"Valid IPs  : Subnet Mask\")\n",
    "for  k,v in d.items():\n",
    "    print(k,\":\",v)"
   ]
  },
  {
   "cell_type": "code",
   "execution_count": null,
   "id": "17aebe1d-8a42-4529-8c65-94cd717ce06b",
   "metadata": {},
   "outputs": [],
   "source": []
  }
 ],
 "metadata": {
  "kernelspec": {
   "display_name": "Python 3 (ipykernel)",
   "language": "python",
   "name": "python3"
  },
  "language_info": {
   "codemirror_mode": {
    "name": "ipython",
    "version": 3
   },
   "file_extension": ".py",
   "mimetype": "text/x-python",
   "name": "python",
   "nbconvert_exporter": "python",
   "pygments_lexer": "ipython3",
   "version": "3.12.5"
  }
 },
 "nbformat": 4,
 "nbformat_minor": 5
}
