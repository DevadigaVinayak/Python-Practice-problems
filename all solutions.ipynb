{
 "cells": [
  {
   "cell_type": "code",
   "execution_count": null,
   "id": "dbdbe557-b47e-4dcf-aad8-2fd46c6ce637",
   "metadata": {},
   "outputs": [],
   "source": [
    "#Remove the negative elements from the list\n",
    "data= [1,2,3,-4,-5,0,6,7,-8,-9,10]\n",
    "\n",
    "#output=[1,2,3,6,7,10]\n",
    "\n",
    "#sol1\n",
    "i=0\n",
    "while i<len(data):\n",
    "    if data[i]<1 :\n",
    "        data.remove(data[i])\n",
    "    else:\n",
    "        i=i+1\n",
    "          \n",
    "print(data)\n",
    "\n",
    "\n",
    "#Sol2\n",
    "data= [1,2,3,-4,-5,0,6,7,-8,-9,10]\n",
    "for x in range(len(data)-1,-1,-1):\n",
    "    if data[x]<1:\n",
    "        data.remove(data[x])\n",
    "        print(x,data)\n",
    "print(data)"
   ]
  },
  {
   "cell_type": "code",
   "execution_count": 10,
   "id": "c01c99ce-8102-4f0e-a630-8331db621f63",
   "metadata": {},
   "outputs": [
    {
     "name": "stdin",
     "output_type": "stream",
     "text": [
      "Enter the row numbers 6\n"
     ]
    },
    {
     "name": "stdout",
     "output_type": "stream",
     "text": [
      " ********* \n",
      "* ******* *\n",
      "** ***** **\n",
      "*** *** ***\n",
      "**** * ****\n",
      "***** *****\n"
     ]
    }
   ],
   "source": [
    "\n",
    "#patteren\n",
    "r=int(input(\"Enter the row numbers\"))\n",
    "c=r+r-1\n",
    "for x in range(r):\n",
    "    for y in range(c):\n",
    "        if x==y  :\n",
    "            print(\" \", end =\"\")\n",
    "            \n",
    "        elif y==c-x-1:\n",
    "            print(\" \",end=\"\")\n",
    "        else:\n",
    "            print(\"*\", end=\"\")\n",
    "    print()\n",
    "    \n",
    "    "
   ]
  },
  {
   "cell_type": "code",
   "execution_count": 22,
   "id": "e16b829d-f19c-437b-88e0-62c2b617a086",
   "metadata": {},
   "outputs": [
    {
     "name": "stdin",
     "output_type": "stream",
     "text": [
      "Enter the year  2024\n",
      "Enter the month of the year 8\n"
     ]
    },
    {
     "name": "stdout",
     "output_type": "stream",
     "text": [
      "False\n"
     ]
    }
   ],
   "source": [
    "from datetime import datetime\n",
    "\n",
    "year=int(input(\"Enter the year \"))\n",
    "month=int(input(\"Enter the month of the year\"))\n",
    "\n",
    "date=datetime(year,month,13)\n",
    "\n",
    "day_name = date.strftime('%A')\n",
    "\n",
    "if day_name==\"Friday\":\n",
    "    print(\"True\")\n",
    "else:\n",
    "    print(\"False\")"
   ]
  },
  {
   "cell_type": "code",
   "execution_count": 34,
   "id": "53def989-4b59-4776-aa85-1566907c1d2f",
   "metadata": {},
   "outputs": [
    {
     "name": "stdin",
     "output_type": "stream",
     "text": [
      " 7\n"
     ]
    },
    {
     "name": "stdout",
     "output_type": "stream",
     "text": [
      "       * \n",
      "      * * \n",
      "     * * * \n",
      "    * * * * \n",
      "   * * * * * \n",
      "  * * * * * * \n",
      " * * * * * * * \n"
     ]
    }
   ],
   "source": [
    "#team A\n",
    "\n",
    "r=int(input())\n",
    "\n",
    "for x in range(1,r+1):\n",
    "    print(\" \"*(r-x),\"* \"*x)\n",
    "    "
   ]
  },
  {
   "cell_type": "code",
   "execution_count": 31,
   "id": "82d2c8b1-d909-43da-8f56-47556d3e1448",
   "metadata": {},
   "outputs": [
    {
     "name": "stdin",
     "output_type": "stream",
     "text": [
      "Enter the sentence good morning good boy\n"
     ]
    },
    {
     "name": "stdout",
     "output_type": "stream",
     "text": [
      "duplicate\n",
      "duplicate\n",
      "duplicate\n",
      "['good', 'morning', 'good']\n"
     ]
    }
   ],
   "source": [
    "sen=input(\"Enter the sentence\")\n",
    "dupwords=[]\n",
    "for word in sen.split():\n",
    "    for letter in word:\n",
    "        if letter in word[(word.index(letter))+1:]:\n",
    "            print(\"duplicate\")\n",
    "            dupwords.append(word) \n",
    "            break\n",
    "print(dupwords)\n",
    "        \n",
    "            \n",
    "            "
   ]
  },
  {
   "cell_type": "code",
   "execution_count": 35,
   "id": "09dfd843-b15f-4616-b279-15483406be37",
   "metadata": {},
   "outputs": [
    {
     "name": "stdin",
     "output_type": "stream",
     "text": [
      "Enter the row numbers 5\n"
     ]
    },
    {
     "name": "stdout",
     "output_type": "stream",
     "text": [
      "*       *\n",
      " *     * \n",
      "  *   *  \n",
      "   * *   \n",
      "    *    \n"
     ]
    }
   ],
   "source": [
    "#Team B\n",
    "r=int(input(\"Enter the row numbers\"))\n",
    "c=r+r-1\n",
    "for x in range(r):\n",
    "    for y in range(c):\n",
    "        if x==y or y==c-x-1:\n",
    "            print(\"*\", end =\"\")  \n",
    "        else:\n",
    "            print(\" \", end=\"\")\n",
    "    print()\n",
    "    \n"
   ]
  },
  {
   "cell_type": "code",
   "execution_count": 24,
   "id": "14ecd965-23e0-4e15-9616-5ea349f0f676",
   "metadata": {},
   "outputs": [
    {
     "name": "stdin",
     "output_type": "stream",
     "text": [
      "Enter the sentence: hjsshkjhf\n"
     ]
    },
    {
     "name": "stdout",
     "output_type": "stream",
     "text": [
      "¤¦¯¯¤§¦¤¢\n",
      "wywzywu\n"
     ]
    }
   ],
   "source": [
    "#teamB\n",
    "\n",
    "#Morse code\n",
    "sentence=input(\"Enter the sentence:\")\n",
    "\n",
    "def encode(sentence):\n",
    "    encodedsentence=''\n",
    "    for word in sentence:\n",
    "        x=60\n",
    "        for letter in word:\n",
    "            encodedsentence+=chr(ord(letter)+x)\n",
    "            x+=1\n",
    "    return encodedsentence\n",
    "    \n",
    "def decode(sentence):\n",
    "    decodedsentence=''\n",
    "    for word in sentence:\n",
    "        x=45\n",
    "        for letter in word:\n",
    "            decodedsentence+=chr(ord(letter)-x)\n",
    "            x+=1\n",
    "    return decodedsentence\n",
    "    \n",
    "x=encode(sentence)\n",
    "print(x)\n",
    "y=decode(x)\n",
    "print(y)"
   ]
  },
  {
   "cell_type": "code",
   "execution_count": 1,
   "id": "59e15f02-0e35-4bf3-808c-19ff17efce47",
   "metadata": {},
   "outputs": [
    {
     "name": "stdout",
     "output_type": "stream",
     "text": [
      "{'fruits': ['apple', 'orange', 'pineapple'], 'Veg': ['onion', 'Tomato', 'potato', 'Capsicum']}\n"
     ]
    }
   ],
   "source": [
    "dict1={ 'fruits1':'apple','fruits2':'orange','Veg1':\"onion\", \"Veg2\":\"Tomato\"}\n",
    "dict2= {'fruits1':'apple', 'fruits2':'pineapple', 'Veg1':'potato', 'Veg2':'Capsicum'}\n",
    "\n",
    "res={\"fruits\":[], \"Veg\":[]}\n",
    "\n",
    "for key,value in dict1.items():\n",
    "    if \"fruits\" in key:\n",
    "        res[\"fruits\"].append(value)\n",
    "    elif \"Veg\" in key:\n",
    "        res[\"Veg\"].append(value)\n",
    "    \n",
    "for key,value in dict2.items():\n",
    "    if \"fruits\" in key and value not in res[\"fruits\"]:\n",
    "        res[\"fruits\"].append(value)\n",
    "    if \"Veg\" in key and value not in res[\"Veg\"] :\n",
    "        res[\"Veg\"].append(value)\n",
    "\n",
    "print(res)"
   ]
  },
  {
   "cell_type": "code",
   "execution_count": 4,
   "id": "0ae13442-a384-4732-b9c1-fb38145b3243",
   "metadata": {},
   "outputs": [
    {
     "name": "stdout",
     "output_type": "stream",
     "text": [
      "{'chennai': 11, 'banglore': 21, 'Delhi': 57, 'Mumbai': 61}\n"
     ]
    }
   ],
   "source": [
    "#d1=eval(input(\"Enter the dict\"))\n",
    "d1={\"chennai\":1, 'banglore':2,'Delhi':3, 'Mumbai':4}\n",
    "\n",
    "import random\n",
    "for key,val in d1.items():\n",
    "    r=random.randint(10,100)\n",
    "    \n",
    "    d1[key]=r\n",
    "print(d1)\n"
   ]
  },
  {
   "cell_type": "code",
   "execution_count": null,
   "id": "55ee25a7-1412-439b-bd60-fbfe854af415",
   "metadata": {},
   "outputs": [],
   "source": []
  },
  {
   "cell_type": "code",
   "execution_count": null,
   "id": "8468f05e-1924-4480-9aa8-cc00ac3d54fb",
   "metadata": {},
   "outputs": [],
   "source": []
  }
 ],
 "metadata": {
  "kernelspec": {
   "display_name": "Python 3 (ipykernel)",
   "language": "python",
   "name": "python3"
  },
  "language_info": {
   "codemirror_mode": {
    "name": "ipython",
    "version": 3
   },
   "file_extension": ".py",
   "mimetype": "text/x-python",
   "name": "python",
   "nbconvert_exporter": "python",
   "pygments_lexer": "ipython3",
   "version": "3.12.5"
  }
 },
 "nbformat": 4,
 "nbformat_minor": 5
}
